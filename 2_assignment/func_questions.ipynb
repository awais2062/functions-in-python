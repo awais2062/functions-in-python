{
 "cells": [
  {
   "cell_type": "code",
   "execution_count": 63,
   "id": "71650b0f-eff7-4b5d-9249-5c4728007506",
   "metadata": {
    "tags": []
   },
   "outputs": [
    {
     "name": "stdout",
     "output_type": "stream",
     "text": [
      "120\n"
     ]
    }
   ],
   "source": [
    "\"\"\"\n",
    "Write a function calculate_factorial(n) that takes an integer n and returns the factorial of n. \n",
    "Use a for loop to achieve this.\n",
    "\"\"\"\n",
    "def calculate_factorial(n):\n",
    "    if n < 0:\n",
    "        return None \n",
    "    elif n > 0:\n",
    "        factorial = 1\n",
    "    for i in range(1, n + 1):\n",
    "        factorial *= i\n",
    "    return factorial\n",
    "print(calculate_factorial(5))  "
   ]
  },
  {
   "cell_type": "code",
   "execution_count": 66,
   "id": "35360eb9-2995-4466-8755-7074bfb5136b",
   "metadata": {
    "tags": []
   },
   "outputs": [
    {
     "name": "stdout",
     "output_type": "stream",
     "text": [
      "True\n"
     ]
    }
   ],
   "source": [
    "\"\"\"\n",
    "Write a function is_palindrome(s) that takes a string s and returns True if s is a palindrome,\n",
    "and False otherwise. A palindrome is a string that reads the same backward as forward.\n",
    "# \"\"\" \n",
    "def is_palindrome(s):\n",
    "    s = s.lower()\n",
    "    return s == s[::-1]\n",
    "print(is_palindrome(\"mom\")) \n",
    "\n",
    "# def is_palindrome(s):\n",
    "#     return s == s[::-1]\n",
    "# print(is_palindrome(\"Noon\")) "
   ]
  },
  {
   "cell_type": "code",
   "execution_count": 50,
   "id": "1238eec2-f168-4c5f-8f20-ad7dacd62e8e",
   "metadata": {},
   "outputs": [
    {
     "name": "stdout",
     "output_type": "stream",
     "text": [
      "[0, 1, 1, 2, 3, 5, 8, 13, 21, 34]\n"
     ]
    }
   ],
   "source": [
    "\"\"\"\n",
    "Write a function fibonacci(n) that takes an integer n and returns the first n numbers\n",
    "in the Fibonacci sequence as a list.\n",
    "\"\"\"\n",
    "def fibonacci(n):\n",
    "    if n <= 0:\n",
    "        return []\n",
    "    else:\n",
    "        fib_sequence = [0, 1] \n",
    "        while len(fib_sequence) < n:\n",
    "            next_fib = fib_sequence[-1] + fib_sequence[-2] \n",
    "            fib_sequence.append(next_fib)\n",
    "        return fib_sequence[:n]\n",
    "\n",
    "\n",
    "print(fibonacci(10)) \n",
    "\n"
   ]
  },
  {
   "cell_type": "code",
   "execution_count": 68,
   "id": "1bad6090-bf23-4a10-948f-aaa4308ef2c2",
   "metadata": {},
   "outputs": [
    {
     "name": "stdout",
     "output_type": "stream",
     "text": [
      "1244\n"
     ]
    }
   ],
   "source": [
    "\"\"\"\n",
    "Write a function sum_of_evens(numbers) that takes a list of integers numbers\n",
    "and returns the sum of all even numbers in the list.\n",
    "\"\"\"\n",
    "def sum_of_evens(numbers):\n",
    "    total_sum=0\n",
    "    for i in numbers:\n",
    "        if i %2 == 0:\n",
    "            total_sum +=i\n",
    "    return total_sum\n",
    "            \n",
    "print(sum_of_evens([1,2,3,4,5,6,7,8,9,10,1214]))"
   ]
  },
  {
   "cell_type": "code",
   "execution_count": null,
   "id": "5782eb2d-4eb8-4052-9a21-ad51cd41a3c4",
   "metadata": {},
   "outputs": [
    {
     "name": "stdout",
     "output_type": "stream",
     "text": [
      "90\n"
     ]
    }
   ],
   "source": [
    "\"\"\"\n",
    "Write a function find_largest(numbers) that takes a list of integers numbers\n",
    "and returns the largest number in the list.\n",
    "\"\"\"\n",
    "def find_largest(numbers):\n",
    "    largest_num=float(\"-inf\")\n",
    "    for i in numbers:\n",
    "        if i > largest_num:\n",
    "            largest_num=i\n",
    "    return largest_num\n",
    "print(find_largest([2,5,23,43,65,21,90]))"
   ]
  },
  {
   "cell_type": "code",
   "execution_count": null,
   "id": "d01b0406-eb41-48d2-b1b8-cd094b7277a0",
   "metadata": {},
   "outputs": [
    {
     "name": "stdout",
     "output_type": "stream",
     "text": [
      "{'hello': 2, 'world': 1}\n"
     ]
    }
   ],
   "source": [
    "\"\"\"\n",
    "Write a function word_frequency(sentence) that takes a string sentence\n",
    "and returns a dictionary where the keys are words and the values\n",
    "are the number of times each word appears in the sentence.\n",
    "\"\"\"\n",
    "def word_frequency(sentence):\n",
    "    words = sentence.split()\n",
    "    frequency = {}\n",
    "    for word in words:\n",
    "        if word in frequency:\n",
    "            frequency[word] += 1\n",
    "        else:\n",
    "            frequency[word] = 1\n",
    "    return frequency\n",
    "print(word_frequency(\"hello world hello\"))"
   ]
  },
  {
   "cell_type": "code",
   "execution_count": null,
   "id": "c3b57f3b-77b8-4488-9e16-19a94672605a",
   "metadata": {},
   "outputs": [
    {
     "name": "stdout",
     "output_type": "stream",
     "text": [
      "{'Awais khan': 72.2, 'Altaf ali': 67.8, 'Haris khan': 70.6}\n"
     ]
    }
   ],
   "source": [
    "\"\"\"\n",
    "Write a function calculate_grades(students) that takes a dictionary students where the keys are\n",
    "student names and the values are lists of their grades.The function should return a new dictionary\n",
    "where the keys are student names and the values are their average grades.\n",
    "\"\"\"\n",
    "def calculate_grades(students):\n",
    "    average_grades = {}\n",
    "    \n",
    "    for student, grades in students.items():\n",
    "        if len(grades) > 0:\n",
    "            average_grades[student] = sum(grades) / len(grades)\n",
    "        else:\n",
    "            average_grades[student] = 0.0 \n",
    "    \n",
    "    return average_grades\n",
    "print(calculate_grades({\"Awais khan\":[65,76,85,55,80],\"Altaf ali\":[70,54,55,85,75],\"Haris khan\":[87,54,65,67,80]}))\n"
   ]
  },
  {
   "cell_type": "code",
   "execution_count": null,
   "id": "cc04a214-35be-4ed1-8e7e-e5545b65d9b3",
   "metadata": {},
   "outputs": [
    {
     "name": "stdout",
     "output_type": "stream",
     "text": [
      "you are not eligible\n"
     ]
    }
   ],
   "source": [
    "\"\"\"\n",
    "Write a function check_eligibility(age) that takes an integer age and prints \"Eligible\" \n",
    "if the age is 18 or above, otherwise prints \"Not Eligible\".\n",
    "\"\"\"\n",
    "def check_eligibility(age):\n",
    "    if age>=18:\n",
    "        return \"you are eligible\"\n",
    "    else:\n",
    "        return \"you are not eligible\"\n",
    "print(check_eligibility(12))"
   ]
  },
  {
   "cell_type": "code",
   "execution_count": null,
   "id": "71eab0fa-c6aa-45bc-ac87-e36c77c482dc",
   "metadata": {},
   "outputs": [
    {
     "name": "stdout",
     "output_type": "stream",
     "text": [
      "Positive\n"
     ]
    }
   ],
   "source": [
    "\"\"\"\n",
    "Write a function classify_number(n) that takes an integer n and returns \"Positive\" \n",
    "if n is positive, \"Negative\" if n is negative, and \"Zero\" if n is zero.\n",
    "\"\"\"\n",
    "def classify_number(n):\n",
    "    if n > 0:\n",
    "        return \"Positive\"\n",
    "    elif n < 0:\n",
    "        return \"Negative\"\n",
    "    else:\n",
    "        return \"Zero\"\n",
    "\n",
    "print(classify_number(5))   "
   ]
  },
  {
   "cell_type": "code",
   "execution_count": null,
   "id": "7aa13458-24b4-4b96-89e2-e77188a1c541",
   "metadata": {},
   "outputs": [
    {
     "name": "stdout",
     "output_type": "stream",
     "text": [
      "10.5\n"
     ]
    }
   ],
   "source": [
    "\"\"\"\n",
    "Write a function simple_calculator(a, b, operator) that takes two numbers a and b, and a string operator\n",
    "which can be one of \"+\", \"-\", \"*\" or \"/\". The function should perform the corresponding arithmetic operation\n",
    "and return the result. If the operator is not one of these, return \"Invalid operator\".\n",
    "\"\"\"\n",
    "def simple_calculator(a, b, operator):\n",
    "    if operator ==\"+\":\n",
    "        return a+b\n",
    "    elif operator ==\"-\":\n",
    "        return a-b\n",
    "    elif operator ==\"*\":\n",
    "        return a*b\n",
    "    elif operator ==\"/\":\n",
    "        if b==0:\n",
    "            return \"number is not divided by zero\"\n",
    "        else:\n",
    "            return a/b\n",
    "    else:\n",
    "        return \"invalid operator\"\n",
    "   \n",
    "print(simple_calculator(21,2,\"/\"))\n",
    "\n"
   ]
  },
  {
   "cell_type": "code",
   "execution_count": null,
   "id": "bb91a146-ddc9-459d-bc59-b5045b38696e",
   "metadata": {},
   "outputs": [
    {
     "name": "stdout",
     "output_type": "stream",
     "text": [
      "True\n"
     ]
    }
   ],
   "source": [
    "\"\"\"\n",
    "Scenario: A city offers senior citizen benefits to residents who are either\n",
    "aged 65 or older,or are 60 and have lived in the city for more than 10 years.\n",
    "\"\"\"\n",
    "def senior_residents(age,years):\n",
    "    if age>=65:\n",
    "        return True\n",
    "    if age==60 and year>10:\n",
    "        return True\n",
    "    else:\n",
    "        return False\n",
    "print(senior_residents(65,2))"
   ]
  },
  {
   "cell_type": "code",
   "execution_count": 4,
   "id": "034b1e24-14d6-418c-a510-8353084d39c1",
   "metadata": {},
   "outputs": [
    {
     "name": "stdin",
     "output_type": "stream",
     "text": [
      "Enter your age is = 54\n",
      "Enter years you have lived in the city is = 12\n"
     ]
    },
    {
     "data": {
      "text/plain": [
       "'You are Not Eligible for Senior Citizen Benefits'"
      ]
     },
     "execution_count": 4,
     "metadata": {},
     "output_type": "execute_result"
    }
   ],
   "source": [
    "\"\"\"\n",
    "Task: Write a program that takes a person's age and number of years they have lived in the city as input.\n",
    "If the person meets either condition, print \"Eligible for Senior Citizen Benefits\".\n",
    "Otherwise, print \"Not Eligible for Senior Citizen Benefits\".\n",
    "\"\"\"\n",
    "def senior_residents():\n",
    "    age=int(input(\"Enter your age is =\"))\n",
    "    if age>=65:\n",
    "        return \"You are Eligible for Senior Citizen Benefits\"\n",
    "    years=int(input(\"Enter years you have lived in the city is =\"))\n",
    "    if age>=60 and years >10:\n",
    "        return \"You are Eligible for Senior Citizen Benefits\"\n",
    "    else:\n",
    "        return \"You are Not Eligible for Senior Citizen Benefits\"\n",
    "\n",
    "senior_residents()\n",
    "\n"
   ]
  },
  {
   "cell_type": "code",
   "execution_count": 7,
   "id": "8cdee307-172c-44dc-8ef6-11925836abd0",
   "metadata": {},
   "outputs": [
    {
     "name": "stdin",
     "output_type": "stream",
     "text": [
      "Enter your age:  54\n",
      "Are you a student (yes/no)?  no\n"
     ]
    },
    {
     "name": "stdout",
     "output_type": "stream",
     "text": [
      "Sorry, you do not qualify for any discounts.\n"
     ]
    }
   ],
   "source": [
    "\"\"\"\n",
    "Scenario: A library offers a membership discount to students and senior citizens.\n",
    "Students are those under 18 or enrolled in a full-time educational program, and\n",
    "senior citizens are those aged 60 or older.\n",
    "\"\"\"\n",
    "def membership_discount(age, is_student):\n",
    "    if age < 18 or is_student:\n",
    "        return \"You qualify for a student discount!\"\n",
    "    elif age >= 60:\n",
    "        return \"You qualify for a senior citizen discount!\"\n",
    "    else:\n",
    "        return \"Sorry, you do not qualify for any discounts.\"\n",
    "\n",
    "def main():\n",
    "    age = int(input(\"Enter your age: \"))\n",
    "    is_student = input(\"Are you a student (yes/no)? \").lower()\n",
    "\n",
    "    if is_student == \"yes\":\n",
    "        is_student = True\n",
    "    else:\n",
    "        is_student = False\n",
    "\n",
    "    print(membership_discount(age, is_student))\n",
    "main()\n",
    "\n"
   ]
  },
  {
   "cell_type": "code",
   "execution_count": 13,
   "id": "78427145-5073-4a94-a38e-cf26769bd5a7",
   "metadata": {},
   "outputs": [
    {
     "name": "stdin",
     "output_type": "stream",
     "text": [
      "Enter your age:  45\n",
      "Are you enrolled (yes/no)?  no\n"
     ]
    },
    {
     "name": "stdout",
     "output_type": "stream",
     "text": [
      "Regular Membership Fee\n"
     ]
    }
   ],
   "source": [
    "\"\"\"\"\n",
    "Task: Write a program that takes a person's age and their enrollment status\n",
    "(True for enrolled, False for not enrolled) as input. If the person is a student or a senior citizen,\n",
    "print \"Discounted Membership Fee\". Otherwise, print \"Regular Membership Fee\".\n",
    "\"\"\"\n",
    "def membership_discount(age, is_enrolled):\n",
    "    if is_enrolled or age >= 60:\n",
    "        return \"Discounted Membership Fee\"\n",
    "    else:\n",
    "        return \"Regular Membership Fee\"\n",
    "\n",
    "def main():\n",
    "    age = int(input(\"Enter your age: \"))\n",
    "    is_enrolled = input(\"Are you enrolled (yes/no)? \").lower()\n",
    "\n",
    "    if is_enrolled == \"yes\":\n",
    "        is_enrolled = True\n",
    "    else:\n",
    "        is_enrolled = False\n",
    "    print(membership_discount(age, is_enrolled))\n",
    "main()\n"
   ]
  },
  {
   "cell_type": "code",
   "execution_count": 41,
   "id": "731e2469-23f5-464c-89b4-1d8f30e87221",
   "metadata": {},
   "outputs": [
    {
     "name": "stdin",
     "output_type": "stream",
     "text": [
      "Enter your age:  44\n",
      "Are you a member of the event club (yes/no)?  yes\n"
     ]
    },
    {
     "name": "stdout",
     "output_type": "stream",
     "text": [
      "Discounted Admission\n"
     ]
    }
   ],
   "source": [
    "\"\"\"\n",
    "Scenario: An event has different admission prices based on age and membership status.Children under 12,\n",
    "senior citizens aged 65 or older, and members of the event club get discounted admission.\n",
    "\"\"\"\n",
    "def admission_price(age, is_member):\n",
    "    if age < 12 or age >= 65 or is_member:\n",
    "        return \"Discounted Admission\"\n",
    "    else:\n",
    "        return \"Regular Admission\"\n",
    "\n",
    "def main():\n",
    "    age = int(input(\"Enter your age: \"))\n",
    "    is_member = input(\"Are you a member of the event club (yes/no)? \")\n",
    "\n",
    "    if is_member == \"yes\":\n",
    "        is_member = True\n",
    "    else:\n",
    "        is_member = False\n",
    "\n",
    "    print(admission_price(age, is_member))\n",
    "main()\n"
   ]
  },
  {
   "cell_type": "code",
   "execution_count": 45,
   "id": "6bd31a3b-4d1f-4494-97e8-de69d4de0d40",
   "metadata": {},
   "outputs": [
    {
     "name": "stdin",
     "output_type": "stream",
     "text": [
      "Enter your age:  22\n",
      "Are you a member (yes/no)?  yes\n"
     ]
    },
    {
     "name": "stdout",
     "output_type": "stream",
     "text": [
      "Discounted Admission\n"
     ]
    }
   ],
   "source": [
    "\"\"\"\n",
    "Task: Write a program that takes a person's age and membership status (True for member, False for not a\n",
    "member) as input. If the person qualifies for discounted admission based on any of the conditions,\n",
    "print \"Discounted Admission\". Otherwise, print \"Regular Admission\".\n",
    "\"\"\"\n",
    "def admission_status(age, is_member):\n",
    "    if age < 12 or age >= 65 or is_member:\n",
    "        return \"Discounted Admission\"\n",
    "    else:\n",
    "        return \"Regular Admission\"\n",
    "\n",
    "def main():\n",
    "    age = int(input(\"Enter your age: \"))\n",
    "    is_member_str = input(\"Are you a member (yes/no)? \")\n",
    "\n",
    "    if is_member_str == \"yes\":\n",
    "        is_member = True\n",
    "    else:\n",
    "        is_member = False\n",
    "    print(admission_status(age, is_member))\n",
    "main()\n"
   ]
  },
  {
   "cell_type": "code",
   "execution_count": 56,
   "id": "21f14eee-1432-4978-a769-088986a53534",
   "metadata": {},
   "outputs": [
    {
     "name": "stdin",
     "output_type": "stream",
     "text": [
      "Enter the year :  54\n",
      "Enter the month :  7\n",
      "Enter the day :  6\n"
     ]
    },
    {
     "name": "stdout",
     "output_type": "stream",
     "text": [
      "Regular Meal Price applies\n"
     ]
    }
   ],
   "source": [
    "\"\"\"\n",
    "Scenario: A restaurant offers special meal prices during weekends and holidays.\n",
    "The days considered are Saturday, Sunday, and public holidays.\n",
    "\"\"\"\n",
    "import datetime\n",
    "\n",
    "def is_weekend_or_holiday(day):\n",
    "    if day.weekday() == 5 or day.weekday() == 6:\n",
    "        return True\n",
    "    public_holidays = {\n",
    "        datetime.date(2024, 1, 1),   \n",
    "        datetime.date(2024, 8, 14),  \n",
    "        datetime.date(2024, 4, 22),  \n",
    "       \n",
    "    }\n",
    "    \n",
    "    if day in public_holidays:\n",
    "        return True\n",
    "    \n",
    "    return False\n",
    "\n",
    "def main():\n",
    "    year = int(input(\"Enter the year : \"))\n",
    "    month = int(input(\"Enter the month : \"))\n",
    "    day = int(input(\"Enter the day : \"))\n",
    "\n",
    "    check_date = datetime.date(year, month, day)\n",
    "    \n",
    "    if is_weekend_or_holiday(check_date):\n",
    "        print(\"Special Meal Price applies\")\n",
    "    else:\n",
    "        print(\"Regular Meal Price applies\")\n",
    "main()\n"
   ]
  },
  {
   "cell_type": "code",
   "execution_count": 32,
   "id": "b7fb9125-d51d-49ef-a8c6-5dc3b427ae37",
   "metadata": {},
   "outputs": [
    {
     "name": "stdin",
     "output_type": "stream",
     "text": [
      "Enter the day of the week : monday\n",
      "Is it a public holiday? (True/False):  false\n"
     ]
    },
    {
     "name": "stdout",
     "output_type": "stream",
     "text": [
      "Regular Meal Price applies\n"
     ]
    }
   ],
   "source": [
    "\"\"\"\n",
    "Task: Write a program that takes the current day of the week and a boolean indicating if it's a\n",
    "public holiday as input. If the day is Saturday, Sunday, or a public holiday, print \"Special Meal Price\".\n",
    "Otherwise, print \"Regular Meal Price\".\n",
    "\"\"\"\n",
    "def is_special_day(day_of_week, is_public_holiday):\n",
    "    if day_of_week == \"saturday\" or day_of_week == \"sunday\" or is_public_holiday:\n",
    "        return True\n",
    "    else:\n",
    "        return False\n",
    "\n",
    "def main():\n",
    "    day_of_week = input(\"Enter the day of the week :\")\n",
    "    is_public_holiday = input(\"Is it a public holiday? (True/False): \").lower()=='true'\n",
    "\n",
    "    if is_special_day(day_of_week, is_public_holiday):\n",
    "        print(\"Special Meal Price applies\")\n",
    "    else:\n",
    "        print(\"Regular Meal Price applies\")\n",
    "main()\n"
   ]
  },
  {
   "cell_type": "code",
   "execution_count": 79,
   "id": "e32a13ba-f6e1-42dd-8f78-5d63b8337598",
   "metadata": {},
   "outputs": [
    {
     "name": "stdin",
     "output_type": "stream",
     "text": [
      "Enter your age:  22\n",
      "Enter your membership status (premium/standard/guest):  premium\n"
     ]
    },
    {
     "name": "stdout",
     "output_type": "stream",
     "text": [
      "Access granted!\n"
     ]
    }
   ],
   "source": [
    " \"\"\"\n",
    "Scenario: A fitness club has different access levels. Premium members have access to all areas,\n",
    "standard members have access only if they are in the age range of 18-60 and have paid the annual fee,\n",
    "and guests can access the basic areas if they have a guest pass.\n",
    "\"\"\"\n",
    "def check_access(age, membership_status, paid_fee, guest_pass):\n",
    "    if membership_status == 'premium':\n",
    "        return True  \n",
    "    elif membership_status == 'standard':\n",
    "        if 18 <= age <= 60 and paid_fee:\n",
    "            return True  \n",
    "        else:\n",
    "            return False \n",
    "    elif membership_status == 'guest':\n",
    "        if guest_pass:\n",
    "            return True \n",
    "        else:\n",
    "            return False \n",
    "    else:\n",
    "        return False \n",
    "\n",
    "def main():\n",
    "    age = int(input(\"Enter your age: \"))\n",
    "    membership_status = input(\"Enter your membership status (premium/standard/guest): \").lower()\n",
    "    paid_fee = False\n",
    "    guest_pass = False\n",
    "\n",
    "    if membership_status == 'standard':\n",
    "        paid_fee = input(\"Have you paid the annual fee? (True/False): \").lower() == 'true'\n",
    "    elif membership_status == 'guest':\n",
    "        guest_pass = input(\"Do you have a guest pass? (True/False): \").lower() == 'true'\n",
    "\n",
    "    if check_access(age, membership_status, paid_fee, guest_pass):\n",
    "        print(\"Access granted!\")\n",
    "    else:\n",
    "        print(\"Access denied.\")\n",
    "main()\n"
   ]
  },
  {
   "cell_type": "code",
   "execution_count": 38,
   "id": "c44870ba-bcc9-4c5b-ae2a-50e88cbaea81",
   "metadata": {},
   "outputs": [
    {
     "name": "stdin",
     "output_type": "stream",
     "text": [
      "Enter your membership type :  standard\n",
      "Enter your age:  33\n",
      "Have you paid the annual fee? (True/False):  false\n"
     ]
    },
    {
     "name": "stdout",
     "output_type": "stream",
     "text": [
      "No Access\n"
     ]
    }
   ],
   "source": [
    "\"\"\"\n",
    "Task: Write a  program that takes a person's membership type (Premium, Standard, Guest), age, and a boolean\n",
    "indicating if they have a guest pass or paid the annual fee. Print \"Full Access\" if the person is a premium\n",
    "member, \"Limited Access\" if they are a standard member and meet the conditions, \"Basic Access\" if they are\n",
    "a guest with a guest pass, and \"No Access\" otherwise.\n",
    "\"\"\"\n",
    "def check_access(membership_type, age, guest_pass, paid_fee):\n",
    "    if membership_type == 'premium':\n",
    "        return \"Full Access\"\n",
    "    elif membership_type == 'standard':\n",
    "        if 18 <= age <= 60 and paid_fee:\n",
    "            return \"Limited Access\"\n",
    "        else:\n",
    "            return \"No Access\"\n",
    "    elif membership_type == 'guest':\n",
    "        if guest_pass:\n",
    "            return \"Basic Access\"\n",
    "        else:\n",
    "            return \"No Access\"\n",
    "    else:\n",
    "        return \"No Access\"\n",
    "\n",
    "def main():\n",
    "    membership_type = input(\"Enter your membership type : \").lower()\n",
    "    age = int(input(\"Enter your age: \"))\n",
    "    guest_pass = False\n",
    "    paid_fee = False\n",
    "    \n",
    "    if membership_type == 'standard':\n",
    "        paid_fee = input(\"Have you paid the annual fee? (True/False): \").lower() == 'true'\n",
    "    elif membership_type == 'guest':\n",
    "        guest_pass = input(\"Do you have a guest pass? (True/False): \").lower() == 'true'\n",
    "    \n",
    "    print( check_access(membership_type, age, guest_pass, paid_fee))\n",
    "main()\n"
   ]
  },
  {
   "cell_type": "code",
   "execution_count": 41,
   "id": "30cccd3f-5a44-4fd4-896d-d59bd0f1e628",
   "metadata": {},
   "outputs": [
    {
     "name": "stdin",
     "output_type": "stream",
     "text": [
      "Enter a string:  hello world\n",
      "Enter the substring :  hello\n"
     ]
    },
    {
     "name": "stdout",
     "output_type": "stream",
     "text": [
      "The string 'hello world' contains the substring 'hello'.\n"
     ]
    }
   ],
   "source": [
    "\"\"\"\n",
    "Check if a user-provided string contains a specific substring (without using string methods like find).\n",
    "\"\"\"\n",
    "def contains_substring(main_string, substring):\n",
    "    len_main = len(main_string)\n",
    "    len_sub = len(substring)\n",
    "    if len_sub > len_main:\n",
    "        return False\n",
    "    for i in range(len_main - len_sub + 1):\n",
    "        if main_string[i:i + len_sub] == substring:\n",
    "            return True\n",
    "    \n",
    "    return False\n",
    "\n",
    "def main():\n",
    "    main_string = input(\"Enter a string: \")\n",
    "    substring = input(\"Enter the substring : \")\n",
    "    \n",
    "    if contains_substring(main_string, substring):\n",
    "        print(f\"The string '{main_string}' contains the substring '{substring}'.\")\n",
    "    else:\n",
    "        print(f\"The string '{main_string}' does not contain the substring '{substring}'.\")\n",
    "main()\n"
   ]
  },
  {
   "cell_type": "code",
   "execution_count": 42,
   "id": "01d1c443-fffb-4830-9603-04237067f6a9",
   "metadata": {},
   "outputs": [
    {
     "name": "stdin",
     "output_type": "stream",
     "text": [
      "Enter the custom message: hello\n",
      "Enter the number of times: 2\n"
     ]
    },
    {
     "name": "stdout",
     "output_type": "stream",
     "text": [
      "hello\n",
      "hello\n"
     ]
    }
   ],
   "source": [
    "\"\"\"\n",
    "Print a custom message a specific number of times.\n",
    "\"\"\"\n",
    "def custom_message():\n",
    "    message = input(\"Enter the custom message:\")\n",
    "    times = int(input(\"Enter the number of times:\"))\n",
    "    for _ in range(times):\n",
    "        print(message)\n",
    "custom_message()"
   ]
  },
  {
   "cell_type": "code",
   "execution_count": 106,
   "id": "42aea547-d181-4f2f-bd3b-53f875d53e4f",
   "metadata": {},
   "outputs": [
    {
     "name": "stdin",
     "output_type": "stream",
     "text": [
      "Enter the number of rows for the triangle:  4\n"
     ]
    },
    {
     "name": "stdout",
     "output_type": "stream",
     "text": [
      "*\n",
      "**\n",
      "***\n",
      "****\n"
     ]
    }
   ],
   "source": [
    "\"\"\"\n",
    "Q24.\n",
    "Print a right-angled triangle of asterisks (*).\n",
    "# \"\"\"\n",
    "def print_triangle():\n",
    "    rows = int(input(\"Enter the number of rows for the triangle: \"))\n",
    "    for i in range(1, rows + 1):\n",
    "        print('*' * i)\n",
    "\n",
    "print_triangle()"
   ]
  },
  {
   "cell_type": "code",
   "execution_count": 45,
   "id": "b880d1e0-cab1-4ebf-804a-3e2b38ce3d47",
   "metadata": {},
   "outputs": [
    {
     "name": "stdin",
     "output_type": "stream",
     "text": [
      "Enter the number of rows for the pyramid:  2\n"
     ]
    },
    {
     "name": "stdout",
     "output_type": "stream",
     "text": [
      "1\n",
      "22\n"
     ]
    }
   ],
   "source": [
    "\"\"\"\n",
    "Print a number pyramid (e.g., 1, 22, 333, etc.).\n",
    "\"\"\"\n",
    "def print_pyramid():\n",
    "    rows = int(input(\"Enter the number of rows for the pyramid: \"))\n",
    "    for i in range(1, rows + 1):\n",
    "        print(str(i)*i)\n",
    "\n",
    "print_pyramid()"
   ]
  },
  {
   "cell_type": "code",
   "execution_count": 118,
   "id": "152041ad-c7d5-4ab6-87b1-85d646ae0270",
   "metadata": {},
   "outputs": [
    {
     "name": "stdout",
     "output_type": "stream",
     "text": [
      "The sum of all even numbers between 1 and 20 is: 110\n"
     ]
    }
   ],
   "source": [
    "\"\"\"\n",
    "Calculate the sum of all even numbers between 1 and 20.\n",
    "\"\"\"\n",
    "def sum_even_numbers():\n",
    "    sum_even = 0\n",
    "    for num in range(2, 21, 2):\n",
    "        sum_even += num\n",
    "    return sum_even\n",
    "result = sum_even_numbers()\n",
    "print(f\"The sum of all even numbers between 1 and 20 is: {result}\")\n"
   ]
  },
  {
   "cell_type": "code",
   "execution_count": 47,
   "id": "89538da3-f1aa-43b7-ac82-97d7ae3f5198",
   "metadata": {},
   "outputs": [
    {
     "name": "stdin",
     "output_type": "stream",
     "text": [
      "Enter a number:  5\n"
     ]
    },
    {
     "name": "stdout",
     "output_type": "stream",
     "text": [
      "The factorial of 5 is: 120\n"
     ]
    }
   ],
   "source": [
    "\"\"\"\n",
    "Find the factorial of a number (n!).\n",
    "\"\"\"\n",
    "def factorial(n):\n",
    "    if n < 0:\n",
    "        return None \n",
    "    elif n == 0:\n",
    "        return 1 \n",
    "    else:\n",
    "        result = 1\n",
    "        for i in range(1, n + 1):\n",
    "            result *= i\n",
    "        return result\n",
    "\n",
    "number = int(input(\"Enter a number: \"))\n",
    "factorial_result = factorial(number)\n",
    "\n",
    "if factorial_result is not None:\n",
    "    print(f\"The factorial of {number} is: {factorial_result}\")\n",
    "else:\n",
    "    print(\"Factorial is not defined for negative numbers.\")\n"
   ]
  },
  {
   "cell_type": "code",
   "execution_count": 4,
   "id": "cabdcbed-65d2-492a-ba95-9507781c8520",
   "metadata": {},
   "outputs": [
    {
     "name": "stdin",
     "output_type": "stream",
     "text": [
      "Enter the start of the range:  4\n",
      "Enter the end of the range:  50\n"
     ]
    },
    {
     "name": "stdout",
     "output_type": "stream",
     "text": [
      "Prime numbers between 4 and 50 are:[5, 7, 11, 13, 17, 19, 23, 29, 31, 37, 41, 43, 47]\n"
     ]
    }
   ],
   "source": []
  },
  {
   "cell_type": "code",
   "execution_count": 9,
   "id": "eeac2898-6064-4077-8d70-c537bba034e5",
   "metadata": {},
   "outputs": [
    {
     "name": "stdin",
     "output_type": "stream",
     "text": [
      "Enter a number:  6\n"
     ]
    },
    {
     "name": "stdout",
     "output_type": "stream",
     "text": [
      "1 is odd\n",
      "2 is even\n",
      "3 is odd\n",
      "4 is even\n",
      "5 is odd\n",
      "6 is even\n"
     ]
    }
   ],
   "source": [
    "\"\"\"\n",
    "take input from the user and iterate the number and and if number is even then print number is\n",
    "even if the number is odd then print number is odd\n",
    "\"\"\"\n",
    "num = int(input(\"Enter a number: \"))\n",
    "for i in range(1, num+1):\n",
    "    if i % 2 == 0:\n",
    "        print(f\"{i} is even\")\n",
    "    else:\n",
    "        print(f\"{i} is odd\")\n"
   ]
  },
  {
   "cell_type": "code",
   "execution_count": 10,
   "id": "3d66bfd4-45c4-4dd8-87c6-4e2f2650c79e",
   "metadata": {},
   "outputs": [
    {
     "name": "stdout",
     "output_type": "stream",
     "text": [
      "1\n",
      "2\n",
      "4\n",
      "5\n",
      "6\n",
      "7\n"
     ]
    }
   ],
   "source": [
    "\"\"\"\n",
    "use for loop to iterate from 1 to 10 if the value is 3 then don't print the value if the\n",
    "number is 8 stop the loop\n",
    "\"\"\"\n",
    "for i in range(1, 11):\n",
    "    if i == 3:\n",
    "        continue  \n",
    "    if i == 8:\n",
    "        break \n",
    "    \n",
    "    print(i)\n"
   ]
  },
  {
   "cell_type": "code",
   "execution_count": 14,
   "id": "f82dc67d-dc68-45e7-b4f9-800ddc3cef32",
   "metadata": {},
   "outputs": [
    {
     "name": "stdout",
     "output_type": "stream",
     "text": [
      "1\n",
      "2\n",
      "4\n",
      "5\n"
     ]
    }
   ],
   "source": [
    "\"\"\"\n",
    "print i as long as i is less than 6:\n",
    "Exit the loop when i is 3:\n",
    "Continue to the next iteration if i is 3:\n",
    "\"\"\"\n",
    "# i = 1\n",
    "# while i < 6:\n",
    "#     print(i)\n",
    "#     i += 1\n",
    "    \n",
    "\n",
    "# i = 1\n",
    "# while i < 6:\n",
    "#     if i == 3:\n",
    "#         break\n",
    "#     print(i)\n",
    "#     i += 1\n",
    "\n",
    "i = 1\n",
    "while i < 6:\n",
    "    if i == 3:\n",
    "        i += 1\n",
    "        continue\n",
    "    print(i)\n",
    "    i += 1\n"
   ]
  },
  {
   "cell_type": "code",
   "execution_count": 29,
   "id": "f123e466-3e04-4572-b2b3-2c4540c07f0a",
   "metadata": {},
   "outputs": [
    {
     "name": "stdin",
     "output_type": "stream",
     "text": [
      "Enter a number greater than 0:  4\n"
     ]
    },
    {
     "name": "stdout",
     "output_type": "stream",
     "text": [
      "4\n",
      "3\n",
      "2\n",
      "1\n",
      "Blast off!\n"
     ]
    }
   ],
   "source": [
    "\"\"\"\n",
    "Write a     program that asks the user for a number greater than 0 and then counts down to zero using\n",
    "a while loop. After reaching zero, print \"Blast off!\".\n",
    "\"\"\"\n",
    "num = int(input(\"Enter a number greater than 0: \"))\n",
    "if num <= 0:\n",
    "    print(\"Please enter a number greater than 0.\")\n",
    "else:\n",
    "    while num >= 0:\n",
    "        if num == 0:\n",
    "            print(\"Blast off!\")\n",
    "        else:\n",
    "            print(num)\n",
    "        num -= 1  "
   ]
  },
  {
   "cell_type": "code",
   "execution_count": 30,
   "id": "fde63afd-1e4e-40cd-bfcf-6754b8a76f2d",
   "metadata": {},
   "outputs": [
    {
     "name": "stdin",
     "output_type": "stream",
     "text": [
      "Enter a number greater than 0:  3\n"
     ]
    },
    {
     "name": "stdout",
     "output_type": "stream",
     "text": [
      "3\n",
      "2\n",
      "Blast off!\n"
     ]
    }
   ],
   "source": [
    "\"\"\"\n",
    "Ask the user to input a number (num) greater than 0.\n",
    "Use a while loop to print numbers starting from num down to 1.\n",
    "After reaching 1, print \"Blast off!\".\n",
    "\"\"\"\n",
    "num = int(input(\"Enter a number greater than 0: \"))\n",
    "if num <= 0:\n",
    "    print(\"Please enter a number greater than 0.\")\n",
    "else:\n",
    "    while num > 0:\n",
    "        if num == 1:\n",
    "            print(\"Blast off!\")\n",
    "        else:\n",
    "            print(num)\n",
    "        num -= 1  "
   ]
  },
  {
   "cell_type": "code",
   "execution_count": 32,
   "id": "19a7ccd1-6b0c-4fcd-8c82-f0d3132a151e",
   "metadata": {},
   "outputs": [
    {
     "name": "stdin",
     "output_type": "stream",
     "text": [
      "Enter the password:  password\n"
     ]
    },
    {
     "name": "stdout",
     "output_type": "stream",
     "text": [
      "Incorrect password. Try again.\n"
     ]
    },
    {
     "name": "stdin",
     "output_type": "stream",
     "text": [
      "Enter the password:  password123\n"
     ]
    },
    {
     "name": "stdout",
     "output_type": "stream",
     "text": [
      "Access granted.\n"
     ]
    }
   ],
   "source": [
    "\"\"\"\n",
    "Write a program that asks the user to enter a password. The password should be \"password123\". Use a\n",
    "while loop to allow the user to keep entering passwords until they enter the correct one. If the password\n",
    "is correct, print \"Access granted.\" If the password is incorrect, print \"Incorrect password. Try again.\"\n",
    "Use break to exit the loop when the correct password is entered.\n",
    "\"\"\"\n",
    "correct_password = \"password123\"\n",
    "while True:\n",
    "    password = input(\"Enter the password: \")\n",
    "    \n",
    "    if password == correct_password:\n",
    "        print(\"Access granted.\")\n",
    "        break\n",
    "    else:\n",
    "        print(\"Incorrect password. Try again.\")\n"
   ]
  },
  {
   "cell_type": "code",
   "execution_count": 33,
   "id": "24c4ee3b-ad0a-445b-b4d8-87cd6ca02385",
   "metadata": {},
   "outputs": [
    {
     "name": "stdin",
     "output_type": "stream",
     "text": [
      "Enter a number:  4\n",
      "Enter a number:  5\n",
      "Enter a number:  6\n",
      "Enter a number:  7\n",
      "Enter a number:  8\n",
      "Enter a number:  9\n",
      "Enter a number:  -1\n"
     ]
    },
    {
     "name": "stdout",
     "output_type": "stream",
     "text": [
      "The sum of all even numbers is= 18\n"
     ]
    }
   ],
   "source": [
    "\"\"\"\n",
    "Write a program that asks the user to enter a series of numbers. The program should calculate and print\n",
    "the sum of all even numbers entered. Use a while loop to allow the user to continue entering numbers until\n",
    "they enter -1, which should terminate the loop and print the final sum of even numbers entered.\n",
    "\"\"\"\n",
    "sum_even = 0\n",
    "num = 0\n",
    "while num != -1:\n",
    "    num = int(input(\"Enter a number: \"))\n",
    "    if num == -1:\n",
    "        break  \n",
    "    if num % 2 == 0:\n",
    "        sum_even += num  \n",
    "print(f\"The sum of all even numbers is= {sum_even}\")\n"
   ]
  },
  {
   "cell_type": "code",
   "execution_count": null,
   "id": "408d11f2-fd52-40b3-a8fc-f5758090d4d4",
   "metadata": {},
   "outputs": [],
   "source": [
    "\"\"\"\n",
    "Write a program that validates a user's login credentials. The program should ask the user to enter a \n",
    "username and password. If both are correct (username is \"user123\" and password is \"password456\"),\n",
    "print \"Login successful!\" and exit. If either the username or password is incorrect, print\n",
    "\"Invalid username or password. Please try again.\" and allow the user to try again. Use a while loop to\n",
    "repeatedly prompt for credentials until the correct ones are entered.\n",
    "\"\"\"\n",
    "correct_username = \"user123\"\n",
    "correct_password = \"password456\"\n",
    "while True:\n",
    "    username = input(\"Enter your username: \")\n",
    "    password = input(\"Enter your password: \")\n",
    "    \n",
    "    if username == correct_username and password == correct_password:\n",
    "        print(\"Login successful!\")\n",
    "        break  \n",
    "    else:\n",
    "        print(\"Invalid username or password. Please try again.\")\n"
   ]
  },
  {
   "cell_type": "code",
   "execution_count": null,
   "id": "e2ccc559-95e9-45f7-be07-06ce6812f1d6",
   "metadata": {},
   "outputs": [],
   "source": []
  }
 ],
 "metadata": {
  "kernelspec": {
   "display_name": "Python 3",
   "language": "python",
   "name": "python3"
  },
  "language_info": {
   "codemirror_mode": {
    "name": "ipython",
    "version": 3
   },
   "file_extension": ".py",
   "mimetype": "text/x-python",
   "name": "python",
   "nbconvert_exporter": "python",
   "pygments_lexer": "ipython3",
   "version": "3.7.5"
  }
 },
 "nbformat": 4,
 "nbformat_minor": 5
}
